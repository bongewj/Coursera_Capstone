{
 "cells": [
  {
   "cell_type": "markdown",
   "metadata": {},
   "source": [
    "# CAPSTONE FINAL REPORT"
   ]
  },
  {
   "cell_type": "markdown",
   "metadata": {},
   "source": [
    "## Introduction/Business Problem"
   ]
  },
  {
   "cell_type": "markdown",
   "metadata": {},
   "source": [
    "In a particular neighborhood (e.g. Tampines) in Singapore, what type of business (e.g. restaurant, provision store, café) should I open? I aim to combine check-in information from Foursquare for businesses in each neighborhood in Singapore with the Resident Household data (e.g. distribution by type of dwelling in each neighborhood, household size, age, household income) from the Department of Statistics Singapore to identify neighborhoods that are most similar to Tampines (or the particular neighborhood under consideration) and predict what types of businesses could be underserved. "
   ]
  },
  {
   "cell_type": "markdown",
   "metadata": {},
   "source": [
    "## Data"
   ]
  },
  {
   "cell_type": "markdown",
   "metadata": {},
   "source": [
    "Two main sources of data will be used: \n",
    "1. Foursquare location data to extract check-in information for various businesses in each neighborhood, and \n",
    "2. Resident Household data from the Department of Statistics Singapore. \n",
    "\n",
    "Using the data from 2., similar neighborhoods to Tampines (or the particular neighborhood under consideration) will be identified. Once done, data from Foursquare (e.g. check-in, ratings) for each neighborhood will be used to compare the various neighborhoods to identify potential areas that are underserved in Tampines. "
   ]
  },
  {
   "cell_type": "code",
   "execution_count": null,
   "metadata": {},
   "outputs": [],
   "source": []
  }
 ],
 "metadata": {
  "kernelspec": {
   "display_name": "Python 3",
   "language": "python",
   "name": "python3"
  },
  "language_info": {
   "codemirror_mode": {
    "name": "ipython",
    "version": 3
   },
   "file_extension": ".py",
   "mimetype": "text/x-python",
   "name": "python",
   "nbconvert_exporter": "python",
   "pygments_lexer": "ipython3",
   "version": "3.7.6"
  }
 },
 "nbformat": 4,
 "nbformat_minor": 4
}
